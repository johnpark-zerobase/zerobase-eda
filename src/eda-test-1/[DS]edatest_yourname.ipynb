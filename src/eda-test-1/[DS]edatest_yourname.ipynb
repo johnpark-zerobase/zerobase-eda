{
 "cells": [
  {
   "cell_type": "markdown",
   "metadata": {},
   "source": [
    "# 제로베이스 데이터 사이언스 스쿨 EDA Level Test 1\n",
    "## 문제 소개 \n",
    "- 총 3단계 데이터 분석 상황 제시\n",
    "    - 1, 2단계 60점 \n",
    "    - 3단계 40점 \n",
    "    - 총점 100점\n",
    "<br></br>\n",
    "- 1단계 DataFrame 불러오기 & 전처리\n",
    "- 2단계 원하는 정보 얻기\n",
    "- 3단계 시각화\n",
    "<br></br>\n",
    "## 참고 사항\n",
    "- Check Functions 셀을 반드시 실행해주세요!\n",
    "- 여러분이 제출하신 답안을 채점하기 위한 코드입니다. \n",
    "- 각 문제마다 반드시, check_01_01(df) 함수를 실행해주시기를 바랍니다\n",
    "<br></br>\n",
    "- 1,2 단계는 채점 코드를 통해 채점합니다. 총 60점\n",
    "- 3단계는 채점자가 제출해주신 시각화 결과물을 직접 검토하여 채점합니다. 총 40점\n",
    "<br></br>\n",
    "- 파일 제목은 [DS]edatest_honggildong.ipynb 으로 제출해주시기 바랍니다.\n",
    "    - 성부터 소문자로 작성해주세요.\n",
    "- 제출은 제공드린 구글설문지를 통해 제출해주시면 감사하겠습니다.\n",
    "---"
   ]
  },
  {
   "cell_type": "markdown",
   "metadata": {},
   "source": [
    "# 1. Check Functions\n",
    "- grading 채점 코드 안에는 각 문제 번호에 따른 check_00_00() 라는 함수가 있습니다. \n",
    "\n",
    "    ```\n",
    "    from grading import check_01_01\n",
    "    from grading import check_01_02\n",
    "    from grading import check_01_03\n",
    "    from grading import check_02_01\n",
    "    from grading import check_02_02\n",
    "    from grading import check_02_03\n",
    "    from grading import check_02_04\n",
    "    from grading import check_02_05\n",
    "    ```\n",
    "    \n",
    "- 답안을 작성하신 후에 반드시 채점 코드까지 결과값까지 포함하여 제출해주시기를 바랍니다.  \n",
    "\n",
    "ex) \n",
    "check_01_01(df)\n",
    "\n",
    "정답입니다! 10점 누적 되었습니다!\n",
    "\n",
    "현재 누적 점수: 10 / 100"
   ]
  },
  {
   "cell_type": "code",
   "execution_count": 1,
   "metadata": {},
   "outputs": [],
   "source": [
    "# 채점을 위한 코드입니다. 반드시 실행해주세요.\n",
    "from grading import *"
   ]
  },
  {
   "cell_type": "markdown",
   "metadata": {},
   "source": [
    "# 2. Download Target Data"
   ]
  },
  {
   "cell_type": "markdown",
   "metadata": {},
   "source": [
    "##### Data 출처\n",
    "- Source: [서울시 열린데이터](https://data.seoul.go.kr/dataList/419/S/2/datasetView.do)\n",
    "- Data Download: [PinkWink Blog](https://pinkwink.kr/attachment/cfile1.uf@99740C3A5ECB0EA52889B3.txt)\n",
    "\n",
    "##### 참고사항\n",
    "* 데이터에 콤마(,)가 많아 CSV로 변환이 곤란하여, 탭으로 구분하여 TXT로 제공합니다\n",
    "* 외국인 세대수 제외\n",
    "* 65세이상 고령자 수: 외국인 포함"
   ]
  },
  {
   "cell_type": "code",
   "execution_count": 2,
   "metadata": {},
   "outputs": [
    {
     "data": {
      "text/html": [
       "<div>\n",
       "<style scoped>\n",
       "    .dataframe tbody tr th:only-of-type {\n",
       "        vertical-align: middle;\n",
       "    }\n",
       "\n",
       "    .dataframe tbody tr th {\n",
       "        vertical-align: top;\n",
       "    }\n",
       "\n",
       "    .dataframe thead th {\n",
       "        text-align: right;\n",
       "    }\n",
       "</style>\n",
       "<table border=\"1\" class=\"dataframe\">\n",
       "  <thead>\n",
       "    <tr style=\"text-align: right;\">\n",
       "      <th></th>\n",
       "      <th>기간</th>\n",
       "      <th>자치구</th>\n",
       "      <th>세대</th>\n",
       "      <th>인구</th>\n",
       "      <th>인구.1</th>\n",
       "      <th>인구.2</th>\n",
       "      <th>인구.3</th>\n",
       "      <th>인구.4</th>\n",
       "      <th>인구.5</th>\n",
       "      <th>인구.6</th>\n",
       "      <th>인구.7</th>\n",
       "      <th>인구.8</th>\n",
       "      <th>세대당인구</th>\n",
       "      <th>65세이상고령자</th>\n",
       "    </tr>\n",
       "  </thead>\n",
       "  <tbody>\n",
       "    <tr>\n",
       "      <th>0</th>\n",
       "      <td>기간</td>\n",
       "      <td>자치구</td>\n",
       "      <td>세대</td>\n",
       "      <td>합계</td>\n",
       "      <td>합계</td>\n",
       "      <td>합계</td>\n",
       "      <td>한국인</td>\n",
       "      <td>한국인</td>\n",
       "      <td>한국인</td>\n",
       "      <td>등록외국인</td>\n",
       "      <td>등록외국인</td>\n",
       "      <td>등록외국인</td>\n",
       "      <td>세대당인구</td>\n",
       "      <td>65세이상고령자</td>\n",
       "    </tr>\n",
       "    <tr>\n",
       "      <th>1</th>\n",
       "      <td>기간</td>\n",
       "      <td>자치구</td>\n",
       "      <td>세대</td>\n",
       "      <td>계</td>\n",
       "      <td>남자</td>\n",
       "      <td>여자</td>\n",
       "      <td>계</td>\n",
       "      <td>남자</td>\n",
       "      <td>여자</td>\n",
       "      <td>계</td>\n",
       "      <td>남자</td>\n",
       "      <td>여자</td>\n",
       "      <td>세대당인구</td>\n",
       "      <td>65세이상고령자</td>\n",
       "    </tr>\n",
       "    <tr>\n",
       "      <th>2</th>\n",
       "      <td>2020.1/4</td>\n",
       "      <td>합계</td>\n",
       "      <td>4,354,006</td>\n",
       "      <td>10,013,781</td>\n",
       "      <td>4,874,995</td>\n",
       "      <td>5,138,786</td>\n",
       "      <td>9,733,655</td>\n",
       "      <td>4,742,217</td>\n",
       "      <td>4,991,438</td>\n",
       "      <td>280,126</td>\n",
       "      <td>132,778</td>\n",
       "      <td>147,348</td>\n",
       "      <td>2.24</td>\n",
       "      <td>1,518,239</td>\n",
       "    </tr>\n",
       "    <tr>\n",
       "      <th>3</th>\n",
       "      <td>2020.1/4</td>\n",
       "      <td>종로구</td>\n",
       "      <td>74,151</td>\n",
       "      <td>161,984</td>\n",
       "      <td>78,271</td>\n",
       "      <td>83,713</td>\n",
       "      <td>151,217</td>\n",
       "      <td>73,704</td>\n",
       "      <td>77,513</td>\n",
       "      <td>10,767</td>\n",
       "      <td>4,567</td>\n",
       "      <td>6,200</td>\n",
       "      <td>2.04</td>\n",
       "      <td>28,073</td>\n",
       "    </tr>\n",
       "    <tr>\n",
       "      <th>4</th>\n",
       "      <td>2020.1/4</td>\n",
       "      <td>중구</td>\n",
       "      <td>63,045</td>\n",
       "      <td>136,469</td>\n",
       "      <td>66,769</td>\n",
       "      <td>69,700</td>\n",
       "      <td>126,175</td>\n",
       "      <td>61,839</td>\n",
       "      <td>64,336</td>\n",
       "      <td>10,294</td>\n",
       "      <td>4,930</td>\n",
       "      <td>5,364</td>\n",
       "      <td>2</td>\n",
       "      <td>23,794</td>\n",
       "    </tr>\n",
       "  </tbody>\n",
       "</table>\n",
       "</div>"
      ],
      "text/plain": [
       "         기간  자치구         세대          인구       인구.1       인구.2       인구.3  \\\n",
       "0        기간  자치구         세대          합계         합계         합계        한국인   \n",
       "1        기간  자치구         세대           계         남자         여자          계   \n",
       "2  2020.1/4   합계  4,354,006  10,013,781  4,874,995  5,138,786  9,733,655   \n",
       "3  2020.1/4  종로구     74,151     161,984     78,271     83,713    151,217   \n",
       "4  2020.1/4   중구     63,045     136,469     66,769     69,700    126,175   \n",
       "\n",
       "        인구.4       인구.5     인구.6     인구.7     인구.8  세대당인구   65세이상고령자  \n",
       "0        한국인        한국인    등록외국인    등록외국인    등록외국인  세대당인구   65세이상고령자  \n",
       "1         남자         여자        계       남자       여자  세대당인구   65세이상고령자  \n",
       "2  4,742,217  4,991,438  280,126  132,778  147,348   2.24  1,518,239  \n",
       "3     73,704     77,513   10,767    4,567    6,200   2.04     28,073  \n",
       "4     61,839     64,336   10,294    4,930    5,364      2     23,794  "
      ]
     },
     "execution_count": 2,
     "metadata": {},
     "output_type": "execute_result"
    }
   ],
   "source": [
    "# Load DataFrame\n",
    "import pandas as pd\n",
    "\n",
    "df_target = pd.read_csv('./datas/report.txt', sep='\\t')\n",
    "df_target.head()"
   ]
  },
  {
   "cell_type": "markdown",
   "metadata": {},
   "source": [
    "# 3. 문제"
   ]
  },
  {
   "cell_type": "markdown",
   "metadata": {},
   "source": [
    "## 1단계: DataFrame 불러오기 & 전처리\n",
    "***"
   ]
  },
  {
   "cell_type": "markdown",
   "metadata": {},
   "source": [
    "### **문제 1-1)** 0, 1, 2번 index의 row를 제거하고 index를 초기화 하세요(기존 index는 삭제(drop)하세요).    (10점)\n",
    "\n",
    "- 예시: 0,1,2번 index 제거\n",
    "<br></br>\n",
    "    <img src=\"./[문제보기용 이미지]images/01-1-1-001.png\" style=\"margin:auto\" width=130/>\n",
    "    <img src=\"./[문제보기용 이미지]images/01-1-1-002.png\" style=\"margin:auto\" width=180 height=180/>\n",
    "\n",
    "- 예시: index 초기화\n",
    "<br></br>\n",
    "    <img src=\"./[문제보기용 이미지]images/01-1-1-002.png\" style=\"margin:auto\" width=150/>\n",
    "    <img src=\"./[문제보기용 이미지]images/01-1-1-003.png\" style=\"margin:auto\" width=150/>\n",
    "<br></br>\n",
    "- 완료 후 결과 dataframe 변수를 check_01_01 함수에 입력하여 채점하세요."
   ]
  },
  {
   "cell_type": "code",
   "execution_count": null,
   "metadata": {},
   "outputs": [],
   "source": []
  },
  {
   "cell_type": "code",
   "execution_count": null,
   "metadata": {},
   "outputs": [],
   "source": []
  },
  {
   "cell_type": "markdown",
   "metadata": {},
   "source": [
    "### **문제 1-2)** 현재의 컬럼명(current_columns)을 아래 new_columns와 같이 변경하세요.      (10점)\n",
    "\n",
    "- current_columns = ['기간', '자치구', '세대', '인구', '인구.1', '인구.2', '인구.3', '인구.4', '인구.5', '인구.6', '인구.7', '인구.8', '세대당인구', '65세이상고령자']\n",
    "<br></br>\n",
    "- new_columns = ['기간', '자치구', '세대', '합계', '남자', '여자', '한국인 계', '한국인 남자', '한국인 여자', '등록외국인 계', '등록외국인 남자', '등록외국인 여자', '세대당인구', '65세이상고령자']\n",
    "<br></br>\n",
    "- 예시\n",
    "<br></br>\n",
    "    <img src=\"./[문제보기용 이미지]images/01-1-2-001.png\" style=\"margin:auto\" width=150/>\n",
    "    <img src=\"./[문제보기용 이미지]images/01-1-2-002.png\" style=\"margin:auto\" width=150/>\n",
    "<br></br>\n",
    "- 완료 후 결과 dataframe 변수를 check_01_02 함수에 입력하여 채점하세요."
   ]
  },
  {
   "cell_type": "code",
   "execution_count": null,
   "metadata": {},
   "outputs": [],
   "source": []
  },
  {
   "cell_type": "code",
   "execution_count": null,
   "metadata": {},
   "outputs": [],
   "source": []
  },
  {
   "cell_type": "markdown",
   "metadata": {},
   "source": [
    "### **문제 1-3)** 천단위 구분자 \" , \"를 제거하고, data의 type을 int 또는 float으로 변경하세요.   (10점)\n",
    "- 기간, 자치구: 변경 없음\n",
    "<br></br>\n",
    "- '세대', '합계', '남자', '여자', '한국인 계', '한국인 남자', '한국인 여자', '등록외국인 계', '등록외국인 남자', '등록외국인 여자', '65세이상고령자': 천단위 구분자 \",\" 제거 및 int로 타입 변경\n",
    "<br></br>\n",
    "    - 예시\n",
    "<br></br>\n",
    "    <img src=\"./[문제보기용 이미지]images/01-1-3-001.png\" style=\"margin:auto\" width=150/>\n",
    "    <img src=\"./[문제보기용 이미지]images/01-1-3-002.png\" style=\"margin:auto\" width=150/>\n",
    "<br></br>\n",
    "- '세대당인구': float으로 타입 변경\n",
    "<br></br>\n",
    "    - 예시\n",
    "<br></br>\n",
    "    <img src=\"./[문제보기용 이미지]images/01-1-3-003.png\" style=\"margin:auto\" width=150/>\n",
    "    <img src=\"./[문제보기용 이미지]images/01-1-3-004.png\" style=\"margin:auto\" width=150/>\n",
    "<br></br>\n",
    "- 완료 후 결과 dataframe 변수를 check_01_03 함수에 입력하여 채점하세요."
   ]
  },
  {
   "cell_type": "code",
   "execution_count": null,
   "metadata": {},
   "outputs": [],
   "source": []
  },
  {
   "cell_type": "code",
   "execution_count": null,
   "metadata": {},
   "outputs": [],
   "source": []
  },
  {
   "cell_type": "markdown",
   "metadata": {},
   "source": [
    "## 2단계: 원하는 정보 얻기"
   ]
  },
  {
   "cell_type": "markdown",
   "metadata": {},
   "source": [
    "### *Pandas DataFrame의 기능을 이용하여 아래 문제의 답을 구하세요.*\n",
    "***\n",
    "#### 서울시는 아래와 같이 5개의 권역으로 구분됩니다.\n",
    "![서울시 권역생활권](https://www.seoulsolution.kr/sites/default/files/images/%EC%B2%B4%EA%B3%846.jpg)\n",
    "- ref: [서울시-도시계획체계](https://www.seoulsolution.kr/ko/content/서울시-도시계획체계)\n",
    "\n",
    "- 도심권: ['종로구', '중구', '용산구']\n",
    "- 동북권: ['성동구', '광진구', '동대문구', '중랑구', '성북구', '강북구', '도봉구', '노원구']\n",
    "- 서북권: ['은평구', '서대문구', '마포구']\n",
    "- 서남권: ['양천구', '강서구', '구로구', '금천구', '영등포구', '동작구', '관악구']\n",
    "- 동남권: ['서초구', '강남구', '송파구', '강동구']\n",
    "***"
   ]
  },
  {
   "cell_type": "code",
   "execution_count": 7,
   "metadata": {},
   "outputs": [],
   "source": [
    "region_dict = {'도심권': ['종로구', '중구', '용산구'],\n",
    "               '동북권': ['성동구', '광진구', '동대문구', '중랑구', '성북구', '강북구', '도봉구', '노원구'],\n",
    "               '서북권': ['은평구', '서대문구', '마포구'],\n",
    "               '서남권': ['양천구', '강서구', '구로구', '금천구', '영등포구', '동작구', '관악구'],\n",
    "               '동남권': ['서초구', '강남구', '송파구', '강동구']\n",
    "               }"
   ]
  },
  {
   "cell_type": "markdown",
   "metadata": {},
   "source": [
    "### **문제 2-1)** 1단계에서 구한 DataFrame에 '권역' column을 추가하여 해당 구에 맞는 권역을 입력하세요.    (5점)\n",
    "\n",
    "- 예시\n",
    "<br></br>\n",
    "    <img src=\"./[문제보기용 이미지]images/01-2-1-001.png\" style=\"margin:auto\" width=150/>\n",
    "    <img src=\"./[문제보기용 이미지]images/01-2-1-002.png\" style=\"margin:auto\" width=200/>\n",
    "\n",
    "- 완료 후 결과 dataframe 변수를 check_02_01 함수에 입력하여 채점하세요."
   ]
  },
  {
   "cell_type": "code",
   "execution_count": null,
   "metadata": {},
   "outputs": [],
   "source": []
  },
  {
   "cell_type": "code",
   "execution_count": null,
   "metadata": {},
   "outputs": [],
   "source": []
  },
  {
   "cell_type": "markdown",
   "metadata": {},
   "source": [
    "### **문제 2-2)** 2-1에서 만든 DataFrame을 이용하여 Pandas의 pivot_table 메소드를 활용하여 각 권역별 아래 값의 합을 구하고, '합계'를 기준으로 내림차순 정렬하세요.      (5점)\n",
    "\n",
    "- 구할 값: ['합계', '세대', '여자', '한국인 계', '등록외국인 계', '65세이상고령자']\n",
    "\n",
    "- 참고: [Pivot Table](https://pandas.pydata.org/docs/reference/api/pandas.pivot_table.html)\n",
    "<br></br>\n",
    "    - 예시\n",
    "<br></br>\n",
    "    <img src=\"./[문제보기용 이미지]images/01-2-2-001.png\" style=\"margin:auto\" width=150/>\n",
    "    <img src=\"./[문제보기용 이미지]images/01-2-2-002.png\" style=\"margin:auto\" width=150/>\n",
    "<br></br>\n",
    "- 완료 후 결과 dataframe 변수를 check_02_02 함수에 입력하여 채점하세요."
   ]
  },
  {
   "cell_type": "code",
   "execution_count": null,
   "metadata": {},
   "outputs": [],
   "source": []
  },
  {
   "cell_type": "code",
   "execution_count": null,
   "metadata": {},
   "outputs": [],
   "source": []
  },
  {
   "cell_type": "markdown",
   "metadata": {},
   "source": [
    "### **문제 2-3)** 2-2에서 만든 Pivot Table을 이용하여 각 권역별 ['고령자비율', '외국인비율', '여성비율', '세대당인구'] 컬럼을 만들어 아래와 같이 값을 입력하고 '외국인비율'을 기준으로 오름차순 정렬하세요.  (5점)\n",
    "\n",
    "- 고령자비율: 65세이상고령자 / 합계 * 100\n",
    "\n",
    "- 외국인비율: 등록외국인 계 / 합계 * 100\n",
    "\n",
    "- 여성비율: 여자 / 합계 * 100\n",
    "\n",
    "- 세대당인구: (합계 - 등록외국인 계) / 세대\n",
    "<br></br>\n",
    "- 예시: B/C 비율 및  B 기준 오름차순 정렬\n",
    "<br></br>\n",
    "    <img src=\"./[문제보기용 이미지]images/01-2-2-002.png\" style=\"margin:auto\" width=150/>\n",
    "    <img src=\"./[문제보기용 이미지]images/01-2-3-001.png\" style=\"margin:auto\" width=230/>\n",
    "<br></br>\n",
    "- 완료 후 결과 dataframe 변수를 check_02_03 함수에 입력하여 채점하세요."
   ]
  },
  {
   "cell_type": "code",
   "execution_count": null,
   "metadata": {},
   "outputs": [],
   "source": []
  },
  {
   "cell_type": "code",
   "execution_count": null,
   "metadata": {},
   "outputs": [],
   "source": []
  },
  {
   "cell_type": "markdown",
   "metadata": {},
   "source": [
    "### **문제 2-4)** 2-1에서 만든 DataFrame을 이용하여 각 구별 ['고령자비율', '외국인비율', '여성비율'] 컬럼을 만들어 아래와 같이 값을 입력하고 '세대당인구'을 기준으로 내림차순 정렬하세요.  (5점)\n",
    "- 고령자비율: 65세이상고령자 / 합계 * 100\n",
    "- 외국인비율: 등록외국인 계 / 합계 * 100\n",
    "- 여성비율: 여자 / 합계 * 100\n",
    "- 완료 후 결과 dataframe 변수를 check_02_04 함수에 입력하여 채점하세요."
   ]
  },
  {
   "cell_type": "code",
   "execution_count": null,
   "metadata": {},
   "outputs": [],
   "source": []
  },
  {
   "cell_type": "code",
   "execution_count": null,
   "metadata": {},
   "outputs": [],
   "source": []
  },
  {
   "cell_type": "markdown",
   "metadata": {},
   "source": [
    "### **문제 2-5)** 2-3에서 만든 DataFrame을 이용하여 ['고령자비율', '외국인비율', '여성비율', '세대당인구']간의 피어슨 상관계수 행렬(Correlation matrix)를 구하세요. (10점)\n",
    "\n",
    "- 참고\n",
    "    - 상관계수(correlation coefficient): 두 변수가 함께 변하는 정도를 -1 ~ +1 범위의 수로 나타낸 것\n",
    "\n",
    "    - 피어슨 상관계수: 칼 피어슨(Karl Pearson)이 개발한 상관계수로, 일반적으로 상관계수라고 하면 피어슨 상관계수를 말함\n",
    "        - Standard Correlation Coefficient\n",
    "        - r(상관계수) = X와 Y가 함께 변하는 정도 / X와 Y가 각각 변하는 정도\n",
    "<br></br>\n",
    "    - 상관계수 행렬(Correlation Matrix): 변수간 상관계수를 보여주는 행렬\n",
    "<br></br>\n",
    "        - 예시: dog와 cat간의 상관계수 행렬\n",
    "<br></br>\n",
    "        <img src='./[문제보기용 이미지]images/01-2-5-001.png' width=150>\n",
    "        <img src='./[문제보기용 이미지]images/01-2-5-002.png' width=350>\n",
    "<br></br>\n",
    "- 완료 후 결과 dataframe 변수를 check_02_05 함수에 입력하여 채점하세요."
   ]
  },
  {
   "cell_type": "code",
   "execution_count": null,
   "metadata": {},
   "outputs": [],
   "source": []
  },
  {
   "cell_type": "code",
   "execution_count": null,
   "metadata": {},
   "outputs": [],
   "source": []
  },
  {
   "cell_type": "markdown",
   "metadata": {},
   "source": [
    "## 3단계: 시각화"
   ]
  },
  {
   "cell_type": "markdown",
   "metadata": {},
   "source": [
    "### *Pandas DataFrame의 Plot기능, Matplotlib.pyplot, Seaborn 등 시각화 Library를 이용하여 문제와 같이 시각화하세요.*\n",
    "***"
   ]
  },
  {
   "cell_type": "code",
   "execution_count": 14,
   "metadata": {},
   "outputs": [],
   "source": [
    "# 한글 설정(Mac)\n",
    "import matplotlib.pyplot as plt\n",
    "from matplotlib import font_manager, rc\n",
    "\n",
    "%matplotlib inline\n",
    "\n",
    "plt.rcParams['axes.unicode_minus'] = False\n",
    "\n",
    "f_path = '/Library/Fonts/Arial Unicode.ttf'\n",
    "font_name = font_manager.FontProperties(fname=f_path).get_name()\n",
    "rc('font', family=font_name)"
   ]
  },
  {
   "cell_type": "markdown",
   "metadata": {},
   "source": [
    "### **문제 3-1)** 자치구별 고령자비율을 내림차순에 따라 barh 그래프로 시각화 하세요.    (10점)\n",
    "\n",
    "- 예시\n",
    "<br></br>\n",
    "    <img src=\"./[문제보기용 이미지]images/01-3-1-001.png\" style=\"margin:auto\" width=400/>"
   ]
  },
  {
   "cell_type": "code",
   "execution_count": null,
   "metadata": {},
   "outputs": [],
   "source": []
  },
  {
   "cell_type": "code",
   "execution_count": null,
   "metadata": {},
   "outputs": [],
   "source": []
  },
  {
   "cell_type": "markdown",
   "metadata": {},
   "source": [
    "### **문제 3-2)** 권역별 등록외국인 계를 PIE chart로 시각화 하세요.    (10점)\n",
    "\n",
    "- 예시\n",
    "<br></br>\n",
    "    <img src=\"./[문제보기용 이미지]images/01-3-2-001.png\" style=\"margin:auto\" width=400/>"
   ]
  },
  {
   "cell_type": "code",
   "execution_count": null,
   "metadata": {},
   "outputs": [],
   "source": []
  },
  {
   "cell_type": "code",
   "execution_count": null,
   "metadata": {},
   "outputs": [],
   "source": []
  },
  {
   "cell_type": "markdown",
   "metadata": {},
   "source": [
    "### **문제 3-3)** 권역별 외국인비율을 Box plot으로 시각화 하세요.    (10점)\n",
    "\n",
    "- 예시\n",
    "<br></br>\n",
    "    <img src=\"./[문제보기용 이미지]images/01-3-3-001.png\" style=\"margin:auto\" width=400/>"
   ]
  },
  {
   "cell_type": "code",
   "execution_count": null,
   "metadata": {},
   "outputs": [],
   "source": []
  },
  {
   "cell_type": "code",
   "execution_count": null,
   "metadata": {},
   "outputs": [],
   "source": []
  },
  {
   "cell_type": "markdown",
   "metadata": {},
   "source": [
    "### **문제 3-4)** 자치구별 외국인비율-세대당인구를 Scatter plot에 나타내고, 상관관계에 따른 Regression Line을 시각화 하세요.    (10점)\n",
    "\n",
    "- 예시\n",
    "<br></br>\n",
    "    <img src=\"./[문제보기용 이미지]images/01-3-4-001.png\" style=\"margin:auto\" width=400/>"
   ]
  },
  {
   "cell_type": "code",
   "execution_count": null,
   "metadata": {},
   "outputs": [],
   "source": []
  },
  {
   "cell_type": "code",
   "execution_count": null,
   "metadata": {},
   "outputs": [],
   "source": []
  }
 ],
 "metadata": {
  "interpreter": {
   "hash": "46e27ede752268be201d36b7fbc2802b29a11b0bb095abacecc6c0428b93624a"
  },
  "kernelspec": {
   "display_name": "Python 3.8.13 ('dl')",
   "language": "python",
   "name": "python3"
  },
  "language_info": {
   "codemirror_mode": {
    "name": "ipython",
    "version": 3
   },
   "file_extension": ".py",
   "mimetype": "text/x-python",
   "name": "python",
   "nbconvert_exporter": "python",
   "pygments_lexer": "ipython3",
   "version": "3.8.13"
  },
  "orig_nbformat": 4
 },
 "nbformat": 4,
 "nbformat_minor": 2
}
