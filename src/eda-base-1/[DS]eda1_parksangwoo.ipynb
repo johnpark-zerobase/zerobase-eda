{
 "cells": [
  {
   "cell_type": "markdown",
   "metadata": {},
   "source": [
    "# 기본 패키지 import"
   ]
  },
  {
   "cell_type": "code",
   "execution_count": 71,
   "metadata": {},
   "outputs": [],
   "source": [
    "import pandas as pd\n",
    "import numpy as np\n",
    "import matplotlib.pyplot as plt\n",
    "import seaborn as sns\n",
    "\n",
    "## selenium import \n",
    "\n",
    "from selenium import webdriver\n",
    "from selenium.webdriver.common.keys import Keys\n",
    "from selenium.webdriver.common.by import By\n",
    "from selenium.webdriver.support.ui import WebDriverWait\n",
    "from selenium.webdriver.support import expected_conditions as EC\n",
    "from selenium.webdriver.common.action_chains import ActionChains\n",
    "import time"
   ]
  },
  {
   "cell_type": "markdown",
   "metadata": {},
   "source": [
    "# 스타벅스 데이터 추출하기 "
   ]
  },
  {
   "cell_type": "markdown",
   "metadata": {},
   "source": [
    "스타벅스 데이터 추출하기\n",
    "\n"
   ]
  },
  {
   "cell_type": "code",
   "execution_count": 72,
   "metadata": {},
   "outputs": [],
   "source": [
    "## 화면에 따른 element 나 dom 변경을 방지하기위해 화면 사이즈를 특정 사이즈로 고정\n",
    "\n",
    "options = webdriver.ChromeOptions()\n",
    "options.add_argument(\"window-size=1920x1080\")\n",
    "driver = webdriver.Chrome(options=options)\n"
   ]
  },
  {
   "cell_type": "markdown",
   "metadata": {},
   "source": [
    "크롤링 페이지 : https://www.starbucks.co.kr/store/store_map.do?disp=locale\n"
   ]
  },
  {
   "cell_type": "code",
   "execution_count": 73,
   "metadata": {},
   "outputs": [],
   "source": [
    "url = 'https://www.starbucks.co.kr/store/store_map.do?disp=locale'\n",
    "driver.get(url)"
   ]
  },
  {
   "cell_type": "markdown",
   "metadata": {},
   "source": [
    "로딩 마커 확인 \n",
    "- xpath : /html/body/div[@class='loading_dim']\n",
    "- 해당 요소가 가려질때까지 대기"
   ]
  },
  {
   "cell_type": "code",
   "execution_count": 74,
   "metadata": {},
   "outputs": [
    {
     "name": "stdout",
     "output_type": "stream",
     "text": [
      " loading check... : style: z-index: 20000; display: block; opacity: 0.133;\n",
      " loading check... : style: z-index: 20000; display: block; opacity: 0.41328;\n",
      " loading check... : style: z-index: 20000; display: block; opacity: 0.616683;\n",
      " loading check... : style: z-index: 20000; display: block; opacity: 0.697882;\n",
      " loading check... : style: z-index: 20000; display: block;\n",
      " loading check... : style: z-index: 20000; display: block;\n",
      " loading check... : style: z-index: 20000; display: block;\n",
      " loading check... : style: z-index: 20000; display: block;\n",
      " loading check... : style: z-index: 20000; display: block;\n",
      " loading check... : style: z-index: 20000; display: block;\n",
      " loading check... : style: z-index: 20000; display: block;\n",
      " loading check... : style: z-index: 20000; display: block;\n",
      " loading check... : style: z-index: 20000; display: block;\n",
      " loading check... : style: z-index: 20000; display: block;\n",
      " loading check... : style: z-index: 20000; display: block;\n",
      " loading check... : style: z-index: 20000; display: block;\n",
      " loading check... : style: z-index: 20000; display: block;\n",
      " loading check... : style: z-index: 20000; display: block;\n",
      " loading check... : style: z-index: 20000; display: block;\n",
      " loading check... : style: z-index: 20000; display: block;\n",
      " loading check... : style: z-index: 20000; display: block;\n",
      " loading check... : style: z-index: 20000; display: block; opacity: 0.488057;\n",
      " loading check... : style: z-index: 20000; display: block; opacity: 0.206014;\n",
      " loading check... : style: z-index: 20000; display: block; opacity: 0.04375;\n"
     ]
    }
   ],
   "source": [
    "\n",
    "\n",
    "##\n",
    "\n",
    "loading_check=driver.find_element(By.XPATH, '/html/body/div[@class=\"loading_dimm\"]')\n",
    "while loading_check.is_displayed():\n",
    "    print(f' loading check... : style: {loading_check.get_attribute(\"style\")}')\n",
    "    time.sleep(0.1)\n",
    "    loading_check=driver.find_element(By.XPATH, '/html/body/div[@class=\"loading_dimm\"]')"
   ]
  },
  {
   "cell_type": "markdown",
   "metadata": {},
   "source": [
    "지역 화면 활성화 대기"
   ]
  },
  {
   "cell_type": "code",
   "execution_count": 75,
   "metadata": {},
   "outputs": [],
   "source": [
    "local_xpath='//*[@id=\"container\"]/div/form/fieldset/div/section/article[1]/article/header[@class=\"loca_search\"]'\n",
    "\n",
    "while True:\n",
    "    try:\n",
    "        local=driver.find_element(By.XPATH, local_xpath)\n",
    "        break\n",
    "    except:\n",
    "        print('retrying...')\n",
    "        time.sleep(0.1)\n"
   ]
  },
  {
   "cell_type": "markdown",
   "metadata": {},
   "source": [
    "목차 화면대기"
   ]
  },
  {
   "cell_type": "code",
   "execution_count": 76,
   "metadata": {},
   "outputs": [
    {
     "name": "stdout",
     "output_type": "stream",
     "text": [
      "retrying...\n",
      "retrying...\n",
      "retrying...\n",
      "retrying...\n"
     ]
    }
   ],
   "source": [
    "area_select_xpath='//*[@id=\"container\"]/div/form/fieldset/div/section/article[1]/article/article[2]/div[1]/div[2]/ul/li[1]/a'\n",
    "\n",
    "while True:\n",
    "    try:\n",
    "        area_select=driver.find_element(By.XPATH, area_select_xpath)\n",
    "        break\n",
    "    except:\n",
    "        print('retrying...')\n",
    "        time.sleep(1)\n",
    "\n",
    "area_select.click()\n",
    "\n",
    "all_selct_xpath='//*[@id=\"mCSB_2_container\"]/ul/li[1]/a'\n",
    "while True:\n",
    "    try:\n",
    "        all_select=driver.find_element(By.XPATH, all_selct_xpath)\n",
    "        break\n",
    "    except:\n",
    "        print('retrying...')\n",
    "        time.sleep(1)\n",
    "\n",
    "all_select.click()\n"
   ]
  },
  {
   "cell_type": "code",
   "execution_count": 77,
   "metadata": {},
   "outputs": [
    {
     "data": {
      "text/plain": [
       "613"
      ]
     },
     "execution_count": 77,
     "metadata": {},
     "output_type": "execute_result"
    }
   ],
   "source": [
    "items='//*[@id=\"mCSB_3_container\"]/ul/li'\n",
    "\n",
    "while True:\n",
    "    try:\n",
    "        item_list=driver.find_elements(By.XPATH, items)\n",
    "        if len(item_list)>0:\n",
    "            break\n",
    "    except:\n",
    "        print('retrying...')\n",
    "        time.sleep(1)\n",
    "len(item_list)"
   ]
  },
  {
   "cell_type": "code",
   "execution_count": 78,
   "metadata": {},
   "outputs": [
    {
     "data": {
      "text/plain": [
       "['역삼아레나빌딩', '', '서울특별시 강남구 언주로 425 (역삼동)', '1522-3232', '', '리저브 매장 2번']"
      ]
     },
     "execution_count": 78,
     "metadata": {},
     "output_type": "execute_result"
    }
   ],
   "source": [
    "item_list[0].get_attribute('innerText').split('\\n')\n",
    "## 이름 : 0 , 주소 : 2, 전화번호 : 3"
   ]
  },
  {
   "cell_type": "code",
   "execution_count": 79,
   "metadata": {},
   "outputs": [
    {
     "data": {
      "text/html": [
       "<div>\n",
       "<style scoped>\n",
       "    .dataframe tbody tr th:only-of-type {\n",
       "        vertical-align: middle;\n",
       "    }\n",
       "\n",
       "    .dataframe tbody tr th {\n",
       "        vertical-align: top;\n",
       "    }\n",
       "\n",
       "    .dataframe thead th {\n",
       "        text-align: right;\n",
       "    }\n",
       "</style>\n",
       "<table border=\"1\" class=\"dataframe\">\n",
       "  <thead>\n",
       "    <tr style=\"text-align: right;\">\n",
       "      <th></th>\n",
       "      <th>name</th>\n",
       "      <th>address</th>\n",
       "      <th>type</th>\n",
       "      <th>lat</th>\n",
       "      <th>lng</th>\n",
       "    </tr>\n",
       "  </thead>\n",
       "  <tbody>\n",
       "    <tr>\n",
       "      <th>0</th>\n",
       "      <td>역삼아레나빌딩</td>\n",
       "      <td>서울특별시 강남구 언주로 425 (역삼동)</td>\n",
       "      <td>starbucks</td>\n",
       "      <td>37.501087</td>\n",
       "      <td>127.043069</td>\n",
       "    </tr>\n",
       "    <tr>\n",
       "      <th>1</th>\n",
       "      <td>논현역사거리</td>\n",
       "      <td>서울특별시 강남구 강남대로 538 (논현동)</td>\n",
       "      <td>starbucks</td>\n",
       "      <td>37.510178</td>\n",
       "      <td>127.022223</td>\n",
       "    </tr>\n",
       "    <tr>\n",
       "      <th>2</th>\n",
       "      <td>신사역성일빌딩</td>\n",
       "      <td>서울특별시 강남구 강남대로 584 (논현동)</td>\n",
       "      <td>starbucks</td>\n",
       "      <td>37.5139309</td>\n",
       "      <td>127.0206057</td>\n",
       "    </tr>\n",
       "    <tr>\n",
       "      <th>3</th>\n",
       "      <td>국기원사거리</td>\n",
       "      <td>서울특별시 강남구 테헤란로 125 (역삼동)</td>\n",
       "      <td>starbucks</td>\n",
       "      <td>37.499517</td>\n",
       "      <td>127.031495</td>\n",
       "    </tr>\n",
       "    <tr>\n",
       "      <th>4</th>\n",
       "      <td>대치재경빌딩</td>\n",
       "      <td>서울특별시 강남구 남부순환로 2947 (대치동)</td>\n",
       "      <td>starbucks</td>\n",
       "      <td>37.494668</td>\n",
       "      <td>127.062583</td>\n",
       "    </tr>\n",
       "  </tbody>\n",
       "</table>\n",
       "</div>"
      ],
      "text/plain": [
       "      name                     address       type         lat          lng\n",
       "0  역삼아레나빌딩     서울특별시 강남구 언주로 425 (역삼동)  starbucks   37.501087   127.043069\n",
       "1   논현역사거리    서울특별시 강남구 강남대로 538 (논현동)  starbucks   37.510178   127.022223\n",
       "2  신사역성일빌딩    서울특별시 강남구 강남대로 584 (논현동)  starbucks  37.5139309  127.0206057\n",
       "3   국기원사거리    서울특별시 강남구 테헤란로 125 (역삼동)  starbucks   37.499517   127.031495\n",
       "4   대치재경빌딩  서울특별시 강남구 남부순환로 2947 (대치동)  starbucks   37.494668   127.062583"
      ]
     },
     "execution_count": 79,
     "metadata": {},
     "output_type": "execute_result"
    }
   ],
   "source": [
    "rets=[]\n",
    "for item in item_list:\n",
    "    ret={}\n",
    "    item_ele=item.get_attribute('innerText').split('\\n')\n",
    "    ret['name']=item_ele[0]\n",
    "    ret['address']=item_ele[2]\n",
    "    #ret['phone']=item_ele[3]\n",
    "    ret['type']='starbucks'\n",
    "    ret['lat']=item.get_attribute('data-lat')\n",
    "    ret['lng']=item.get_attribute('data-long')\n",
    "    rets.append(ret)\n",
    "\n",
    "df=pd.DataFrame(rets)\n",
    "df.head()"
   ]
  },
  {
   "cell_type": "code",
   "execution_count": null,
   "metadata": {},
   "outputs": [],
   "source": []
  },
  {
   "cell_type": "markdown",
   "metadata": {},
   "source": [
    "이디아 커피 정보추출"
   ]
  },
  {
   "cell_type": "code",
   "execution_count": 80,
   "metadata": {},
   "outputs": [],
   "source": [
    "url_2='https://www.ediya.com/contents/find_store.html'\n",
    "driver.get(url_2)\n",
    "\n",
    "input_xpath='//*[@id=\"storename\"]'\n",
    "input_box=driver.find_element(By.XPATH, input_xpath)\n",
    "while input_box.is_displayed():\n",
    "    try:\n",
    "        loading_check=driver.find_element(By.XPATH, input_xpath)\n",
    "        break\n",
    "    except:\n",
    "        time.sleep(0.1)\n",
    "    \n"
   ]
  },
  {
   "cell_type": "code",
   "execution_count": 81,
   "metadata": {},
   "outputs": [],
   "source": [
    "input_xpath='//*[@id=\"keyword\"]'\n",
    "ret_xpath='//*[@id=\"placesList\"]/li'\n",
    "\n",
    "\n",
    "action='//*[@id=\"contentWrap\"]/div[3]/div/div[1]/ul/li[2]/a'\n",
    "while True:\n",
    "    try:\n",
    "        action_btn=driver.find_element(By.XPATH, action)\n",
    "        if action_btn.get_attribute('class')=='on':\n",
    "            break\n",
    "        else:\n",
    "            action_btn.click()\n",
    "    except:\n",
    "        print('retrying...')\n",
    "        time.sleep(1)\n"
   ]
  },
  {
   "cell_type": "code",
   "execution_count": 126,
   "metadata": {},
   "outputs": [],
   "source": [
    "import re\n",
    "\n",
    "rets_ediya=[]\n",
    "input_box=driver.find_element(By.XPATH, input_xpath)\n",
    "seoul_gu = ['강남구', '강동구', '강북구', '강서구',\n",
    "             '관악구', '광진구', '구로구', '금천구', '노원구', '도봉구', '동대문구', '동작구', '마포구', '서대문구', '서초구', '성동구', '성북구', '송파구', '양천구', '영등포구', '용산구', '은평구', '종로구', '중구', '중랑구']\n",
    "\n",
    "#rets_ediya=[]\n",
    "for gu in seoul_gu:\n",
    "    input_box.clear()\n",
    "    input_box.send_keys(f\"서울 {gu}\")\n",
    "    input_box.send_keys(Keys.RETURN)\n",
    "    time.sleep(2)\n",
    "    while True:\n",
    "        try:\n",
    "            store_list=driver.find_elements(By.XPATH, ret_xpath)\n",
    "            if len(store_list)>0:\n",
    "                break\n",
    "        except:\n",
    "            print('retrying...')\n",
    "            time.sleep(5)\n",
    "    for store in store_list:\n",
    "        ret={}\n",
    "        ret['name']=store.get_attribute('innerText').split('\\n')[0]\n",
    "        ret['address']=store.get_attribute('innerText').split('\\n')[1]\n",
    "        # latlng_string=store.find_element(By.XPATH, 'a').get_attribute('onclick')\n",
    "        # pattern = r\"panLatTo\\('([-+]?\\d*\\.\\d+|\\d+)','([-+]?\\d*\\.\\d+|\\d+)','\\d+'\\);fnMove\\(\\);\"\n",
    "        \n",
    "        # ## retrying until not 0\n",
    "        # match = re.search(pattern, latlng_string)\n",
    "        # ret['debug']=latlng_string\n",
    "        # # while match is None:\n",
    "        # #     print('retrying...')\n",
    "        # #     latlng_string=store.find_element(By.XPATH, 'a').get_attribute('onclick')\n",
    "        # #     time.sleep(0.5)\n",
    "        # #     match = re.search(pattern, latlng_string)\n",
    "        # try:\n",
    "        #     ret['lat']=match.group(2)\n",
    "        #     ret['lng']=match.group(1)\n",
    "        #     if ret['lat']=='0':\n",
    "        #         ret['lat']=None\n",
    "        #     if ret['lng']=='0':\n",
    "        #         ret['lng']=None\n",
    "        # except:\n",
    "        #     ret['lat']=None\n",
    "        #     ret['lng']=None\n",
    "        # ret['type']='ediya'\n",
    "        rets_ediya.append(ret)\n",
    "\n",
    "## update df\n",
    "df=pd.DataFrame(rets_ediya)"
   ]
  },
  {
   "cell_type": "markdown",
   "metadata": {},
   "source": [
    "에러발생한 케이스에 대해서 에러처리 (geocoding)"
   ]
  },
  {
   "cell_type": "code",
   "execution_count": 134,
   "metadata": {},
   "outputs": [
    {
     "data": {
      "text/html": [
       "<div>\n",
       "<style scoped>\n",
       "    .dataframe tbody tr th:only-of-type {\n",
       "        vertical-align: middle;\n",
       "    }\n",
       "\n",
       "    .dataframe tbody tr th {\n",
       "        vertical-align: top;\n",
       "    }\n",
       "\n",
       "    .dataframe thead th {\n",
       "        text-align: right;\n",
       "    }\n",
       "</style>\n",
       "<table border=\"1\" class=\"dataframe\">\n",
       "  <thead>\n",
       "    <tr style=\"text-align: right;\">\n",
       "      <th></th>\n",
       "      <th>name</th>\n",
       "      <th>address</th>\n",
       "      <th>debug</th>\n",
       "      <th>lat</th>\n",
       "      <th>lng</th>\n",
       "      <th>type</th>\n",
       "    </tr>\n",
       "  </thead>\n",
       "  <tbody>\n",
       "    <tr>\n",
       "      <th>0</th>\n",
       "      <td>강남YMCA점</td>\n",
       "      <td>서울 강남구 논현동</td>\n",
       "      <td>panLatTo('0','0','0');fnMove();</td>\n",
       "      <td>None</td>\n",
       "      <td>None</td>\n",
       "      <td>ediya</td>\n",
       "    </tr>\n",
       "    <tr>\n",
       "      <th>1</th>\n",
       "      <td>강남구청역아이티웨딩점</td>\n",
       "      <td>서울 강남구 학동로 338 (논현동, 강남파라곤)</td>\n",
       "      <td>panLatTo('127.0401601992311','37.5165417172404...</td>\n",
       "      <td>37.51654171724045</td>\n",
       "      <td>127.0401601992311</td>\n",
       "      <td>ediya</td>\n",
       "    </tr>\n",
       "    <tr>\n",
       "      <th>2</th>\n",
       "      <td>강남논현학동점</td>\n",
       "      <td>서울 강남구 논현로131길 28 (논현동)</td>\n",
       "      <td>panLatTo('127.02810578707652','37.514080054467...</td>\n",
       "      <td>37.51408005446769</td>\n",
       "      <td>127.02810578707652</td>\n",
       "      <td>ediya</td>\n",
       "    </tr>\n",
       "    <tr>\n",
       "      <th>3</th>\n",
       "      <td>강남대치점</td>\n",
       "      <td>서울 강남구 역삼로 415 (대치동, 성진빌딩)</td>\n",
       "      <td>panLatTo('127.05242928262568','37.501338761793...</td>\n",
       "      <td>37.50133876179308</td>\n",
       "      <td>127.05242928262568</td>\n",
       "      <td>ediya</td>\n",
       "    </tr>\n",
       "    <tr>\n",
       "      <th>4</th>\n",
       "      <td>강남도산점</td>\n",
       "      <td>서울 강남구 도산대로37길 20 (신사동)</td>\n",
       "      <td>panAddTo('서울 강남구 도산대로37길 20 (신사동)','4');fnMove();</td>\n",
       "      <td>None</td>\n",
       "      <td>None</td>\n",
       "      <td>ediya</td>\n",
       "    </tr>\n",
       "    <tr>\n",
       "      <th>...</th>\n",
       "      <td>...</td>\n",
       "      <td>...</td>\n",
       "      <td>...</td>\n",
       "      <td>...</td>\n",
       "      <td>...</td>\n",
       "      <td>...</td>\n",
       "    </tr>\n",
       "    <tr>\n",
       "      <th>719</th>\n",
       "      <td>중랑교차로점</td>\n",
       "      <td>서울 중랑구 동일로 683 (면목동)</td>\n",
       "      <td>panLatTo('0','0','25');fnMove();</td>\n",
       "      <td>None</td>\n",
       "      <td>None</td>\n",
       "      <td>ediya</td>\n",
       "    </tr>\n",
       "    <tr>\n",
       "      <th>720</th>\n",
       "      <td>중랑역점</td>\n",
       "      <td>서울 중랑구 망우로 198 (상봉동)</td>\n",
       "      <td>panAddTo('서울 중랑구 망우로 198 (상봉동)','26');fnMove();</td>\n",
       "      <td>None</td>\n",
       "      <td>None</td>\n",
       "      <td>ediya</td>\n",
       "    </tr>\n",
       "    <tr>\n",
       "      <th>721</th>\n",
       "      <td>중화동점</td>\n",
       "      <td>서울 중랑구 동일로129길 1 (중화동)</td>\n",
       "      <td>panLatTo('127.079542626772','37.5993838458016'...</td>\n",
       "      <td>37.5993838458016</td>\n",
       "      <td>127.079542626772</td>\n",
       "      <td>ediya</td>\n",
       "    </tr>\n",
       "    <tr>\n",
       "      <th>722</th>\n",
       "      <td>중화역점</td>\n",
       "      <td>서울 중랑구 동일로 815, 1층</td>\n",
       "      <td>panAddTo('서울 중랑구 동일로 815, 1층','28');fnMove();</td>\n",
       "      <td>None</td>\n",
       "      <td>None</td>\n",
       "      <td>ediya</td>\n",
       "    </tr>\n",
       "    <tr>\n",
       "      <th>723</th>\n",
       "      <td>화랑대역점</td>\n",
       "      <td>서울 중랑구 신내로25가길 2 (묵동, 현동학당)</td>\n",
       "      <td>panLatTo('127.08413727538176','37.619540201499...</td>\n",
       "      <td>37.61954020149987</td>\n",
       "      <td>127.08413727538176</td>\n",
       "      <td>ediya</td>\n",
       "    </tr>\n",
       "  </tbody>\n",
       "</table>\n",
       "<p>724 rows × 6 columns</p>\n",
       "</div>"
      ],
      "text/plain": [
       "            name                      address  \\\n",
       "0        강남YMCA점                   서울 강남구 논현동   \n",
       "1    강남구청역아이티웨딩점  서울 강남구 학동로 338 (논현동, 강남파라곤)   \n",
       "2        강남논현학동점      서울 강남구 논현로131길 28 (논현동)   \n",
       "3          강남대치점   서울 강남구 역삼로 415 (대치동, 성진빌딩)   \n",
       "4          강남도산점      서울 강남구 도산대로37길 20 (신사동)   \n",
       "..           ...                          ...   \n",
       "719       중랑교차로점         서울 중랑구 동일로 683 (면목동)   \n",
       "720         중랑역점         서울 중랑구 망우로 198 (상봉동)   \n",
       "721         중화동점       서울 중랑구 동일로129길 1 (중화동)   \n",
       "722         중화역점           서울 중랑구 동일로 815, 1층   \n",
       "723        화랑대역점  서울 중랑구 신내로25가길 2 (묵동, 현동학당)   \n",
       "\n",
       "                                                 debug                lat  \\\n",
       "0                      panLatTo('0','0','0');fnMove();               None   \n",
       "1    panLatTo('127.0401601992311','37.5165417172404...  37.51654171724045   \n",
       "2    panLatTo('127.02810578707652','37.514080054467...  37.51408005446769   \n",
       "3    panLatTo('127.05242928262568','37.501338761793...  37.50133876179308   \n",
       "4    panAddTo('서울 강남구 도산대로37길 20 (신사동)','4');fnMove();               None   \n",
       "..                                                 ...                ...   \n",
       "719                   panLatTo('0','0','25');fnMove();               None   \n",
       "720    panAddTo('서울 중랑구 망우로 198 (상봉동)','26');fnMove();               None   \n",
       "721  panLatTo('127.079542626772','37.5993838458016'...   37.5993838458016   \n",
       "722      panAddTo('서울 중랑구 동일로 815, 1층','28');fnMove();               None   \n",
       "723  panLatTo('127.08413727538176','37.619540201499...  37.61954020149987   \n",
       "\n",
       "                    lng   type  \n",
       "0                  None  ediya  \n",
       "1     127.0401601992311  ediya  \n",
       "2    127.02810578707652  ediya  \n",
       "3    127.05242928262568  ediya  \n",
       "4                  None  ediya  \n",
       "..                  ...    ...  \n",
       "719                None  ediya  \n",
       "720                None  ediya  \n",
       "721    127.079542626772  ediya  \n",
       "722                None  ediya  \n",
       "723  127.08413727538176  ediya  \n",
       "\n",
       "[724 rows x 6 columns]"
      ]
     },
     "execution_count": 134,
     "metadata": {},
     "output_type": "execute_result"
    }
   ],
   "source": [
    "df"
   ]
  },
  {
   "cell_type": "code",
   "execution_count": 86,
   "metadata": {},
   "outputs": [
    {
     "data": {
      "text/plain": [
       "0.0"
      ]
     },
     "execution_count": 86,
     "metadata": {},
     "output_type": "execute_result"
    }
   ],
   "source": [
    "float(n)"
   ]
  },
  {
   "cell_type": "code",
   "execution_count": null,
   "metadata": {},
   "outputs": [],
   "source": []
  }
 ],
 "metadata": {
  "kernelspec": {
   "display_name": ".venv",
   "language": "python",
   "name": "python3"
  },
  "language_info": {
   "codemirror_mode": {
    "name": "ipython",
    "version": 3
   },
   "file_extension": ".py",
   "mimetype": "text/x-python",
   "name": "python",
   "nbconvert_exporter": "python",
   "pygments_lexer": "ipython3",
   "version": "3.11.0"
  }
 },
 "nbformat": 4,
 "nbformat_minor": 2
}
