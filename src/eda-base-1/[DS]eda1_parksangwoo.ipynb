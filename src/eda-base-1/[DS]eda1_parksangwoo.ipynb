{
 "cells": [
  {
   "cell_type": "markdown",
   "metadata": {},
   "source": [
    "# 기본 패키지 import"
   ]
  },
  {
   "cell_type": "code",
   "execution_count": 201,
   "metadata": {},
   "outputs": [],
   "source": [
    "import pandas as pd\n",
    "import numpy as np\n",
    "import matplotlib.pyplot as plt\n",
    "import seaborn as sns\n",
    "\n",
    "## selenium import \n",
    "\n",
    "from selenium import webdriver\n",
    "from selenium.webdriver.common.keys import Keys\n",
    "from selenium.webdriver.common.by import By\n",
    "from selenium.webdriver.support.ui import WebDriverWait\n",
    "from selenium.webdriver.support import expected_conditions as EC\n",
    "from selenium.webdriver.common.action_chains import ActionChains\n",
    "import time\n",
    "\n",
    "### 환경변수용 \n",
    "\n",
    "import os\n",
    "import requests\n",
    "from dotenv import load_dotenv\n",
    "load_dotenv()\n",
    "from geopy import distance\n",
    "\n"
   ]
  },
  {
   "cell_type": "code",
   "execution_count": 195,
   "metadata": {},
   "outputs": [],
   "source": [
    "from geopy import distance"
   ]
  },
  {
   "cell_type": "markdown",
   "metadata": {},
   "source": [
    "# 스타벅스 데이터 추출하기 \n",
    "--- \n",
    "스타벅스 홈페이지로부터 데이터를 추출해서 데이터프레임화 한다."
   ]
  },
  {
   "cell_type": "markdown",
   "metadata": {},
   "source": [
    "스타벅스 데이터 추출하기\n",
    "\n"
   ]
  },
  {
   "cell_type": "code",
   "execution_count": 140,
   "metadata": {},
   "outputs": [],
   "source": [
    "## 화면에 따른 element 나 dom 변경을 방지하기위해 화면 사이즈를 특정 사이즈로 고정\n",
    "\n",
    "options = webdriver.ChromeOptions()\n",
    "options.add_argument(\"window-size=1920x1080\")\n",
    "driver = webdriver.Chrome(options=options)\n"
   ]
  },
  {
   "cell_type": "markdown",
   "metadata": {},
   "source": [
    "크롤링 페이지 : https://www.starbucks.co.kr/store/store_map.do?disp=locale\n"
   ]
  },
  {
   "cell_type": "code",
   "execution_count": 141,
   "metadata": {},
   "outputs": [],
   "source": [
    "url = 'https://www.starbucks.co.kr/store/store_map.do?disp=locale'\n",
    "driver.get(url)"
   ]
  },
  {
   "cell_type": "markdown",
   "metadata": {},
   "source": [
    "로딩 마커 확인 \n",
    "- xpath : /html/body/div[@class='loading_dim']\n",
    "- 해당 요소가 가려질때까지 대기"
   ]
  },
  {
   "cell_type": "code",
   "execution_count": 142,
   "metadata": {},
   "outputs": [
    {
     "name": "stdout",
     "output_type": "stream",
     "text": [
      " loading check... : style: z-index: 20000; display: block; opacity: 0.136146;\n",
      " loading check... : style: z-index: 20000; display: block; opacity: 0.441661;\n",
      " loading check... : style: z-index: 20000; display: block; opacity: 0.630543;\n",
      " loading check... : style: z-index: 20000; display: block; opacity: 0.697882;\n",
      " loading check... : style: z-index: 20000; display: block;\n",
      " loading check... : style: z-index: 20000; display: block;\n",
      " loading check... : style: z-index: 20000; display: block;\n",
      " loading check... : style: z-index: 20000; display: block;\n",
      " loading check... : style: z-index: 20000; display: block;\n",
      " loading check... : style: z-index: 20000; display: block;\n",
      " loading check... : style: z-index: 20000; display: block;\n",
      " loading check... : style: z-index: 20000; display: block;\n",
      " loading check... : style: z-index: 20000; display: block;\n",
      " loading check... : style: z-index: 20000; display: block;\n",
      " loading check... : style: z-index: 20000; display: block;\n",
      " loading check... : style: z-index: 20000; display: block;\n",
      " loading check... : style: z-index: 20000; display: block;\n",
      " loading check... : style: z-index: 20000; display: block;\n",
      " loading check... : style: z-index: 20000; display: block;\n",
      " loading check... : style: z-index: 20000; display: block;\n",
      " loading check... : style: z-index: 20000; display: block;\n",
      " loading check... : style: z-index: 20000; display: block;\n",
      " loading check... : style: z-index: 20000; display: block;\n",
      " loading check... : style: z-index: 20000; display: block;\n",
      " loading check... : style: z-index: 20000; display: block;\n",
      " loading check... : style: z-index: 20000; display: block;\n",
      " loading check... : style: z-index: 20000; display: block;\n",
      " loading check... : style: z-index: 20000; display: block;\n",
      " loading check... : style: z-index: 20000; display: block;\n",
      " loading check... : style: z-index: 20000; display: block;\n",
      " loading check... : style: z-index: 20000; display: block;\n",
      " loading check... : style: z-index: 20000; display: block;\n",
      " loading check... : style: z-index: 20000; display: block;\n",
      " loading check... : style: z-index: 20000; display: block;\n",
      " loading check... : style: z-index: 20000; display: block;\n",
      " loading check... : style: z-index: 20000; display: block;\n",
      " loading check... : style: z-index: 20000; display: block;\n",
      " loading check... : style: z-index: 20000; display: block; opacity: 0.651857;\n",
      " loading check... : style: z-index: 20000; display: block; opacity: 0.28672;\n",
      " loading check... : style: z-index: 20000; display: block; opacity: 0.10108;\n",
      " loading check... : style: z-index: 20000; display: block; opacity: 0.0021175;\n"
     ]
    }
   ],
   "source": [
    "\n",
    "\n",
    "##\n",
    "\n",
    "loading_check=driver.find_element(By.XPATH, '/html/body/div[@class=\"loading_dimm\"]')\n",
    "while loading_check.is_displayed():\n",
    "    print(f' loading check... : style: {loading_check.get_attribute(\"style\")}')\n",
    "    time.sleep(0.1)\n",
    "    loading_check=driver.find_element(By.XPATH, '/html/body/div[@class=\"loading_dimm\"]')"
   ]
  },
  {
   "cell_type": "markdown",
   "metadata": {},
   "source": [
    "지역 화면 활성화 대기"
   ]
  },
  {
   "cell_type": "code",
   "execution_count": 143,
   "metadata": {},
   "outputs": [],
   "source": [
    "local_xpath='//*[@id=\"container\"]/div/form/fieldset/div/section/article[1]/article/header[@class=\"loca_search\"]'\n",
    "\n",
    "while True:\n",
    "    try:\n",
    "        local=driver.find_element(By.XPATH, local_xpath)\n",
    "        break\n",
    "    except:\n",
    "        print('retrying...')\n",
    "        time.sleep(0.1)\n"
   ]
  },
  {
   "cell_type": "markdown",
   "metadata": {},
   "source": [
    "목차 화면대기"
   ]
  },
  {
   "cell_type": "code",
   "execution_count": 144,
   "metadata": {},
   "outputs": [
    {
     "name": "stdout",
     "output_type": "stream",
     "text": [
      "retrying...\n"
     ]
    }
   ],
   "source": [
    "area_select_xpath='//*[@id=\"container\"]/div/form/fieldset/div/section/article[1]/article/article[2]/div[1]/div[2]/ul/li[1]/a'\n",
    "\n",
    "while True:\n",
    "    try:\n",
    "        area_select=driver.find_element(By.XPATH, area_select_xpath)\n",
    "        break\n",
    "    except:\n",
    "        print('retrying...')\n",
    "        time.sleep(1)\n",
    "\n",
    "area_select.click()\n",
    "\n",
    "all_selct_xpath='//*[@id=\"mCSB_2_container\"]/ul/li[1]/a'\n",
    "while True:\n",
    "    try:\n",
    "        all_select=driver.find_element(By.XPATH, all_selct_xpath)\n",
    "        break\n",
    "    except:\n",
    "        print('retrying...')\n",
    "        time.sleep(1)\n",
    "\n",
    "all_select.click()\n"
   ]
  },
  {
   "cell_type": "code",
   "execution_count": 145,
   "metadata": {},
   "outputs": [
    {
     "data": {
      "text/plain": [
       "613"
      ]
     },
     "execution_count": 145,
     "metadata": {},
     "output_type": "execute_result"
    }
   ],
   "source": [
    "items='//*[@id=\"mCSB_3_container\"]/ul/li'\n",
    "\n",
    "while True:\n",
    "    try:\n",
    "        item_list=driver.find_elements(By.XPATH, items)\n",
    "        if len(item_list)>0:\n",
    "            break\n",
    "    except:\n",
    "        print('retrying...')\n",
    "        time.sleep(1)\n",
    "len(item_list)"
   ]
  },
  {
   "cell_type": "code",
   "execution_count": 146,
   "metadata": {},
   "outputs": [
    {
     "data": {
      "text/plain": [
       "['역삼아레나빌딩', '', '서울특별시 강남구 언주로 425 (역삼동)', '1522-3232', '', '리저브 매장 2번']"
      ]
     },
     "execution_count": 146,
     "metadata": {},
     "output_type": "execute_result"
    }
   ],
   "source": [
    "item_list[0].get_attribute('innerText').split('\\n')\n",
    "## 이름 : 0 , 주소 : 2, 전화번호 : 3"
   ]
  },
  {
   "cell_type": "code",
   "execution_count": 147,
   "metadata": {},
   "outputs": [
    {
     "data": {
      "text/html": [
       "<div>\n",
       "<style scoped>\n",
       "    .dataframe tbody tr th:only-of-type {\n",
       "        vertical-align: middle;\n",
       "    }\n",
       "\n",
       "    .dataframe tbody tr th {\n",
       "        vertical-align: top;\n",
       "    }\n",
       "\n",
       "    .dataframe thead th {\n",
       "        text-align: right;\n",
       "    }\n",
       "</style>\n",
       "<table border=\"1\" class=\"dataframe\">\n",
       "  <thead>\n",
       "    <tr style=\"text-align: right;\">\n",
       "      <th></th>\n",
       "      <th>name</th>\n",
       "      <th>address</th>\n",
       "      <th>type</th>\n",
       "      <th>lat</th>\n",
       "      <th>lng</th>\n",
       "    </tr>\n",
       "  </thead>\n",
       "  <tbody>\n",
       "    <tr>\n",
       "      <th>0</th>\n",
       "      <td>역삼아레나빌딩</td>\n",
       "      <td>서울특별시 강남구 언주로 425 (역삼동)</td>\n",
       "      <td>starbucks</td>\n",
       "      <td>37.501087</td>\n",
       "      <td>127.043069</td>\n",
       "    </tr>\n",
       "    <tr>\n",
       "      <th>1</th>\n",
       "      <td>논현역사거리</td>\n",
       "      <td>서울특별시 강남구 강남대로 538 (논현동)</td>\n",
       "      <td>starbucks</td>\n",
       "      <td>37.510178</td>\n",
       "      <td>127.022223</td>\n",
       "    </tr>\n",
       "    <tr>\n",
       "      <th>2</th>\n",
       "      <td>신사역성일빌딩</td>\n",
       "      <td>서울특별시 강남구 강남대로 584 (논현동)</td>\n",
       "      <td>starbucks</td>\n",
       "      <td>37.5139309</td>\n",
       "      <td>127.0206057</td>\n",
       "    </tr>\n",
       "    <tr>\n",
       "      <th>3</th>\n",
       "      <td>국기원사거리</td>\n",
       "      <td>서울특별시 강남구 테헤란로 125 (역삼동)</td>\n",
       "      <td>starbucks</td>\n",
       "      <td>37.499517</td>\n",
       "      <td>127.031495</td>\n",
       "    </tr>\n",
       "    <tr>\n",
       "      <th>4</th>\n",
       "      <td>대치재경빌딩</td>\n",
       "      <td>서울특별시 강남구 남부순환로 2947 (대치동)</td>\n",
       "      <td>starbucks</td>\n",
       "      <td>37.494668</td>\n",
       "      <td>127.062583</td>\n",
       "    </tr>\n",
       "  </tbody>\n",
       "</table>\n",
       "</div>"
      ],
      "text/plain": [
       "      name                     address       type         lat          lng\n",
       "0  역삼아레나빌딩     서울특별시 강남구 언주로 425 (역삼동)  starbucks   37.501087   127.043069\n",
       "1   논현역사거리    서울특별시 강남구 강남대로 538 (논현동)  starbucks   37.510178   127.022223\n",
       "2  신사역성일빌딩    서울특별시 강남구 강남대로 584 (논현동)  starbucks  37.5139309  127.0206057\n",
       "3   국기원사거리    서울특별시 강남구 테헤란로 125 (역삼동)  starbucks   37.499517   127.031495\n",
       "4   대치재경빌딩  서울특별시 강남구 남부순환로 2947 (대치동)  starbucks   37.494668   127.062583"
      ]
     },
     "execution_count": 147,
     "metadata": {},
     "output_type": "execute_result"
    }
   ],
   "source": [
    "rets=[]\n",
    "for item in item_list:\n",
    "    ret={}\n",
    "    item_ele=item.get_attribute('innerText').split('\\n')\n",
    "    ret['name']=item_ele[0]\n",
    "    ret['address']=item_ele[2]\n",
    "    #ret['phone']=item_ele[3]\n",
    "    ret['type']='starbucks'\n",
    "    ret['lat']=item.get_attribute('data-lat')\n",
    "    ret['lng']=item.get_attribute('data-long')\n",
    "    rets.append(ret)\n",
    "\n",
    "df=pd.DataFrame(rets)\n",
    "df.head()"
   ]
  },
  {
   "cell_type": "code",
   "execution_count": null,
   "metadata": {},
   "outputs": [],
   "source": []
  },
  {
   "cell_type": "markdown",
   "metadata": {},
   "source": [
    "# 이디아 커피 정보추출\n",
    "---\n",
    "이디아 홈페이지로부터 데이터를 추출한다."
   ]
  },
  {
   "cell_type": "code",
   "execution_count": 148,
   "metadata": {},
   "outputs": [],
   "source": [
    "url_2='https://www.ediya.com/contents/find_store.html'\n",
    "driver.get(url_2)\n",
    "\n",
    "input_xpath='//*[@id=\"storename\"]'\n",
    "input_box=driver.find_element(By.XPATH, input_xpath)\n",
    "while input_box.is_displayed():\n",
    "    try:\n",
    "        loading_check=driver.find_element(By.XPATH, input_xpath)\n",
    "        break\n",
    "    except:\n",
    "        time.sleep(0.1)\n",
    "    \n"
   ]
  },
  {
   "cell_type": "code",
   "execution_count": 149,
   "metadata": {},
   "outputs": [],
   "source": [
    "input_xpath='//*[@id=\"keyword\"]'\n",
    "ret_xpath='//*[@id=\"placesList\"]/li'\n",
    "\n",
    "\n",
    "action='//*[@id=\"contentWrap\"]/div[3]/div/div[1]/ul/li[2]/a'\n",
    "while True:\n",
    "    try:\n",
    "        action_btn=driver.find_element(By.XPATH, action)\n",
    "        if action_btn.get_attribute('class')=='on':\n",
    "            break\n",
    "        else:\n",
    "            action_btn.click()\n",
    "    except:\n",
    "        print('retrying...')\n",
    "        time.sleep(1)\n"
   ]
  },
  {
   "cell_type": "code",
   "execution_count": 150,
   "metadata": {},
   "outputs": [],
   "source": [
    "import re\n",
    "\n",
    "rets_ediya=[]\n",
    "input_box=driver.find_element(By.XPATH, input_xpath)\n",
    "seoul_gu = ['강남구', '강동구', '강북구', '강서구',\n",
    "             '관악구', '광진구', '구로구', '금천구', '노원구', '도봉구', '동대문구', '동작구', '마포구', '서대문구', '서초구', '성동구', '성북구', '송파구', '양천구', '영등포구', '용산구', '은평구', '종로구', '중구', '중랑구']\n",
    "\n",
    "#rets_ediya=[]\n",
    "for gu in seoul_gu:\n",
    "    input_box.clear()\n",
    "    input_box.send_keys(f\"서울 {gu}\")\n",
    "    input_box.send_keys(Keys.RETURN)\n",
    "    time.sleep(2)\n",
    "    while True:\n",
    "        try:\n",
    "            store_list=driver.find_elements(By.XPATH, ret_xpath)\n",
    "            if len(store_list)>0:\n",
    "                break\n",
    "        except:\n",
    "            print('retrying...')\n",
    "            time.sleep(5)\n",
    "    for store in store_list:\n",
    "        ret={}\n",
    "        ret['name']=store.get_attribute('innerText').split('\\n')[0]\n",
    "        ret['address']=store.get_attribute('innerText').split('\\n')[1]\n",
    "        ## latlng 데이터가 안정적이지 않아서 주소로부터 geocoding을 통해 latlng을 가져옴       \n",
    "        ret['type']='ediya'\n",
    "        rets_ediya.append(ret)\n",
    "\n",
    "## update df\n"
   ]
  },
  {
   "cell_type": "markdown",
   "metadata": {},
   "source": [
    "에러발생한 케이스에 대해서 예외처리 (geocoding)"
   ]
  },
  {
   "cell_type": "code",
   "execution_count": 178,
   "metadata": {},
   "outputs": [
    {
     "name": "stdout",
     "output_type": "stream",
     "text": [
      "No result for 서울 강북구 도봉로 207 -3(미아동)\n",
      "No result for 서울 노원구 한글비석로 409 (상계동) 1~2층\n",
      "No result for 서울 동작구 사당로16가길 96 (사당동) 1,2층\n",
      "No result for 서울 마포구 백범로 100 (대흥동)\n",
      "No result for 서울 영등포구 영등포로35길 19 (영등포동6가)\n",
      "No result for 서울 은평구 서오릉로 195 (구산동)\n"
     ]
    }
   ],
   "source": [
    "## geocoding url = f'https://dapi.kakao.com/v2/local/search/address.json?query={address}'\n",
    "## headers\n",
    "api_key=os.getenv('KAKAO_API_KEY')\n",
    "baseurl='https://dapi.kakao.com/v2/local/search/address.json'\n",
    "headers = {\n",
    "    \"Authorization\": f\"KakaoAK {api_key}\"\n",
    "}\n",
    "\n",
    "def get_latlng(address):\n",
    "    url = f'https://dapi.kakao.com/v2/local/search/address.json?query={address}'\n",
    "    response = requests.get(url, headers=headers)\n",
    "    data = response.json()\n",
    "    if data['meta']['total_count'] == 0:\n",
    "        print(f'No result for {address}')\n",
    "        return None, None\n",
    "    return float(data['documents'][0]['y']), float(data['documents'][0]['x'])\n",
    "\n",
    "\n",
    "rets_processed=[]\n",
    "for ret in rets_ediya:\n",
    "    lat, lng = get_latlng(ret['address'])\n",
    "    ret['lat'] = lat\n",
    "    ret['lng'] = lng\n",
    "    if lat is None:\n",
    "        continue\n",
    "    rets_processed.append(ret)\n",
    "\n",
    "df_ediya=pd.DataFrame(rets_processed) ## error 케이스 무시"
   ]
  },
  {
   "cell_type": "code",
   "execution_count": 186,
   "metadata": {},
   "outputs": [],
   "source": [
    "df_all=pd.concat([df, df_ediya]).to_csv('starbucks_ediya.csv', index=False)"
   ]
  },
  {
   "cell_type": "markdown",
   "metadata": {},
   "source": [
    "# 분석\n",
    "---\n",
    "### 가설설정\n",
    " 1. 스타벅스 특정 거리안에 이디아 커피 매장이 있다.\n",
    " 2. 특정 거리 안에 스타벅스 커피가 없는 이디아 커피 매장이 있다."
   ]
  },
  {
   "cell_type": "code",
   "execution_count": 184,
   "metadata": {},
   "outputs": [],
   "source": [
    "## 상관관계 보기\n",
    "\n",
    "## 스타벅스 주변에 이디야 매장이 많을수록 스타벅스 매장이 많을까?\n",
    "## 스타벅스 주변 100, 200, 300m 반경에 이디야 매장이 몇개나 있는지 확인\n"
   ]
  },
  {
   "cell_type": "code",
   "execution_count": 185,
   "metadata": {},
   "outputs": [
    {
     "data": {
      "text/html": [
       "<div>\n",
       "<style scoped>\n",
       "    .dataframe tbody tr th:only-of-type {\n",
       "        vertical-align: middle;\n",
       "    }\n",
       "\n",
       "    .dataframe tbody tr th {\n",
       "        vertical-align: top;\n",
       "    }\n",
       "\n",
       "    .dataframe thead th {\n",
       "        text-align: right;\n",
       "    }\n",
       "</style>\n",
       "<table border=\"1\" class=\"dataframe\">\n",
       "  <thead>\n",
       "    <tr style=\"text-align: right;\">\n",
       "      <th></th>\n",
       "      <th>name</th>\n",
       "      <th>address</th>\n",
       "      <th>type</th>\n",
       "      <th>lat</th>\n",
       "      <th>lng</th>\n",
       "    </tr>\n",
       "  </thead>\n",
       "  <tbody>\n",
       "    <tr>\n",
       "      <th>0</th>\n",
       "      <td>역삼아레나빌딩</td>\n",
       "      <td>서울특별시 강남구 언주로 425 (역삼동)</td>\n",
       "      <td>starbucks</td>\n",
       "      <td>37.501087</td>\n",
       "      <td>127.043069</td>\n",
       "    </tr>\n",
       "    <tr>\n",
       "      <th>1</th>\n",
       "      <td>논현역사거리</td>\n",
       "      <td>서울특별시 강남구 강남대로 538 (논현동)</td>\n",
       "      <td>starbucks</td>\n",
       "      <td>37.510178</td>\n",
       "      <td>127.022223</td>\n",
       "    </tr>\n",
       "    <tr>\n",
       "      <th>2</th>\n",
       "      <td>신사역성일빌딩</td>\n",
       "      <td>서울특별시 강남구 강남대로 584 (논현동)</td>\n",
       "      <td>starbucks</td>\n",
       "      <td>37.5139309</td>\n",
       "      <td>127.0206057</td>\n",
       "    </tr>\n",
       "    <tr>\n",
       "      <th>3</th>\n",
       "      <td>국기원사거리</td>\n",
       "      <td>서울특별시 강남구 테헤란로 125 (역삼동)</td>\n",
       "      <td>starbucks</td>\n",
       "      <td>37.499517</td>\n",
       "      <td>127.031495</td>\n",
       "    </tr>\n",
       "    <tr>\n",
       "      <th>4</th>\n",
       "      <td>대치재경빌딩</td>\n",
       "      <td>서울특별시 강남구 남부순환로 2947 (대치동)</td>\n",
       "      <td>starbucks</td>\n",
       "      <td>37.494668</td>\n",
       "      <td>127.062583</td>\n",
       "    </tr>\n",
       "    <tr>\n",
       "      <th>...</th>\n",
       "      <td>...</td>\n",
       "      <td>...</td>\n",
       "      <td>...</td>\n",
       "      <td>...</td>\n",
       "      <td>...</td>\n",
       "    </tr>\n",
       "    <tr>\n",
       "      <th>608</th>\n",
       "      <td>사가정역</td>\n",
       "      <td>서울특별시 중랑구 면목로 310</td>\n",
       "      <td>starbucks</td>\n",
       "      <td>37.579594</td>\n",
       "      <td>127.087966</td>\n",
       "    </tr>\n",
       "    <tr>\n",
       "      <th>609</th>\n",
       "      <td>상봉역</td>\n",
       "      <td>서울특별시 중랑구 망우로 307 (상봉동)</td>\n",
       "      <td>starbucks</td>\n",
       "      <td>37.59689</td>\n",
       "      <td>127.08647</td>\n",
       "    </tr>\n",
       "    <tr>\n",
       "      <th>610</th>\n",
       "      <td>묵동</td>\n",
       "      <td>서울특별시 중랑구 동일로 952 (묵동, 로프트원 태릉입구역) 1층</td>\n",
       "      <td>starbucks</td>\n",
       "      <td>37.615368</td>\n",
       "      <td>127.076633</td>\n",
       "    </tr>\n",
       "    <tr>\n",
       "      <th>611</th>\n",
       "      <td>양원역</td>\n",
       "      <td>서울특별시 중랑구 양원역로10길 3 (망우동)</td>\n",
       "      <td>starbucks</td>\n",
       "      <td>37.6066536267232</td>\n",
       "      <td>127.106359790053</td>\n",
       "    </tr>\n",
       "    <tr>\n",
       "      <th>612</th>\n",
       "      <td>중화역</td>\n",
       "      <td>서울특별시 중랑구 봉화산로 35 1층</td>\n",
       "      <td>starbucks</td>\n",
       "      <td>37.60170912407773</td>\n",
       "      <td>127.07841136432036</td>\n",
       "    </tr>\n",
       "  </tbody>\n",
       "</table>\n",
       "<p>613 rows × 5 columns</p>\n",
       "</div>"
      ],
      "text/plain": [
       "        name                                address       type  \\\n",
       "0    역삼아레나빌딩                서울특별시 강남구 언주로 425 (역삼동)  starbucks   \n",
       "1     논현역사거리               서울특별시 강남구 강남대로 538 (논현동)  starbucks   \n",
       "2    신사역성일빌딩               서울특별시 강남구 강남대로 584 (논현동)  starbucks   \n",
       "3     국기원사거리               서울특별시 강남구 테헤란로 125 (역삼동)  starbucks   \n",
       "4     대치재경빌딩             서울특별시 강남구 남부순환로 2947 (대치동)  starbucks   \n",
       "..       ...                                    ...        ...   \n",
       "608     사가정역                      서울특별시 중랑구 면목로 310  starbucks   \n",
       "609      상봉역                서울특별시 중랑구 망우로 307 (상봉동)  starbucks   \n",
       "610       묵동  서울특별시 중랑구 동일로 952 (묵동, 로프트원 태릉입구역) 1층  starbucks   \n",
       "611      양원역              서울특별시 중랑구 양원역로10길 3 (망우동)  starbucks   \n",
       "612      중화역                   서울특별시 중랑구 봉화산로 35 1층  starbucks   \n",
       "\n",
       "                   lat                 lng  \n",
       "0            37.501087          127.043069  \n",
       "1            37.510178          127.022223  \n",
       "2           37.5139309         127.0206057  \n",
       "3            37.499517          127.031495  \n",
       "4            37.494668          127.062583  \n",
       "..                 ...                 ...  \n",
       "608          37.579594          127.087966  \n",
       "609           37.59689           127.08647  \n",
       "610          37.615368          127.076633  \n",
       "611   37.6066536267232    127.106359790053  \n",
       "612  37.60170912407773  127.07841136432036  \n",
       "\n",
       "[613 rows x 5 columns]"
      ]
     },
     "execution_count": 185,
     "metadata": {},
     "output_type": "execute_result"
    }
   ],
   "source": [
    "df"
   ]
  },
  {
   "cell_type": "code",
   "execution_count": 204,
   "metadata": {},
   "outputs": [],
   "source": [
    "rets_count_100m=[]\n",
    "rets_count_200m=[]\n",
    "rets_count_500m=[]\n",
    "rets_count_1000m=[]\n",
    "\n",
    "for i in df.iloc:\n",
    "    count_100m=0\n",
    "    count_200m=0\n",
    "    count_500m=0\n",
    "    count_1000m=0\n",
    "    for j in df_ediya.iloc:\n",
    "        distance_from_store=distance.distance((i['lat'], i['lng']), (j['lat'], j['lng'])).m\n",
    "        if distance_from_store<100:\n",
    "            count_100m+=1\n",
    "            count_200m+=1\n",
    "            count_500m+=1\n",
    "            count_1000m+=1\n",
    "        elif distance_from_store<200:\n",
    "            count_200m+=1\n",
    "            count_500m+=1\n",
    "            count_1000m+=1\n",
    "        elif distance_from_store<500:\n",
    "            count_500m+=1\n",
    "            count_1000m+=1\n",
    "        elif distance_from_store<1000:\n",
    "            count_1000m+=1\n",
    "        else:\n",
    "            continue\n",
    "    rets_count_100m.append(count_100m)\n",
    "    rets_count_200m.append(count_200m)\n",
    "    rets_count_500m.append(count_500m)\n",
    "    rets_count_1000m.append(count_1000m)\n",
    "    \n",
    "    ## "
   ]
  },
  {
   "cell_type": "code",
   "execution_count": 208,
   "metadata": {},
   "outputs": [],
   "source": [
    "df_distance=pd.DataFrame(\n",
    "    {\n",
    "        'name':df['name'],\n",
    "        'count_100m':rets_count_100m,\n",
    "        'count_200m':rets_count_200m,\n",
    "        'count_500m':rets_count_500m,\n",
    "        'count_1000m':rets_count_1000m\n",
    "    }\n",
    ")\n",
    "\n",
    "df_starbucks=pd.concat([df, df_distance], axis=1)"
   ]
  },
  {
   "cell_type": "code",
   "execution_count": 240,
   "metadata": {},
   "outputs": [
    {
     "name": "stdout",
     "output_type": "stream",
     "text": [
      "스타벅스 통계 (근처 이디아 매장이 한개이상 있는 경우)\n",
      "100m\t 안에 이디야 매장이 있는 비율 : 132개, 21.53%\n",
      "200m\t 안에 이디야 매장이 있는 비율 : 325개, 53.02%\n",
      "500m\t 안에 이디야 매장이 있는 비율 : 563개, 91.84%\n",
      "1000m\t 안에 이디야 매장이 있는 비율 : 607개, 99.02%\n"
     ]
    }
   ],
   "source": [
    "print(\"스타벅스 통계 (근처 이디아 매장이 한개이상 있는 경우)\")\n",
    "print(f\"100m\\t 안에 이디야 매장이 있는 비율 : {sum(df_starbucks['count_100m']>0)}개, {(sum(df_starbucks['count_100m']>0)/len(df_starbucks)*100):2.2f}%\") ## 100m 반경에 이디야 매장이 있는 스타벅스 매장의 수\n",
    "print(f\"200m\\t 안에 이디야 매장이 있는 비율 : {sum(df_starbucks['count_200m']>0)}개, {(sum(df_starbucks['count_200m']>0)/len(df_starbucks)*100):2.2f}%\") ## 100m 반경에 이디야 매장이 있는 스타벅스 매장의 수\n",
    "print(f\"500m\\t 안에 이디야 매장이 있는 비율 : {sum(df_starbucks['count_500m']>0)}개, {(sum(df_starbucks['count_500m']>0)/len(df_starbucks)*100):2.2f}%\") ## 100m 반경에 이디야 매장이 있는 스타벅스 매장의 수\n",
    "print(f\"1000m\\t 안에 이디야 매장이 있는 비율 : {sum(df_starbucks['count_1000m']>0)}개, {(sum(df_starbucks['count_1000m']>0)/len(df_starbucks)*100):2.2f}%\") ## 100m 반경에 이디야 매장이 있는 스타벅스 매장의 수"
   ]
  },
  {
   "cell_type": "markdown",
   "metadata": {},
   "source": [
    "반례. 이디야가 많아서 스타벅스가 없는데에도 있는 경우? (역)  \n",
    "즉 이디야 주변에 스타벅스가 없는 예시가 있는가?"
   ]
  },
  {
   "cell_type": "code",
   "execution_count": 242,
   "metadata": {},
   "outputs": [],
   "source": [
    "rets_count_100m=[]\n",
    "rets_count_200m=[]\n",
    "rets_count_500m=[]\n",
    "rets_count_1000m=[]\n",
    "\n",
    "for i in df_ediya.iloc:\n",
    "    count_100m=0\n",
    "    count_200m=0\n",
    "    count_500m=0\n",
    "    count_1000m=0\n",
    "    for j in df.iloc:\n",
    "        distance_from_store=distance.distance((i['lat'], i['lng']), (j['lat'], j['lng'])).m\n",
    "        if distance_from_store<100:\n",
    "            count_100m+=1\n",
    "            count_200m+=1\n",
    "            count_500m+=1\n",
    "            count_1000m+=1\n",
    "        elif distance_from_store<200:\n",
    "            count_200m+=1\n",
    "            count_500m+=1\n",
    "            count_1000m+=1\n",
    "        elif distance_from_store<500:\n",
    "            count_500m+=1\n",
    "            count_1000m+=1\n",
    "        elif distance_from_store<1000:\n",
    "            count_1000m+=1\n",
    "        else:\n",
    "            continue\n",
    "    rets_count_100m.append(count_100m)\n",
    "    rets_count_200m.append(count_200m)\n",
    "    rets_count_500m.append(count_500m)\n",
    "    rets_count_1000m.append(count_1000m)\n",
    "    \n",
    "    ## \n",
    "\n",
    "df_distance=pd.DataFrame(\n",
    "    {\n",
    "        'name':df_ediya['name'],\n",
    "        'count_100m':rets_count_100m,\n",
    "        'count_200m':rets_count_200m,\n",
    "        'count_500m':rets_count_500m,\n",
    "        'count_1000m':rets_count_1000m\n",
    "    }\n",
    ")\n",
    "\n",
    "df_ediya_w_distance=pd.concat([df_ediya, df_distance], axis=1)"
   ]
  },
  {
   "cell_type": "code",
   "execution_count": 251,
   "metadata": {},
   "outputs": [
    {
     "name": "stdout",
     "output_type": "stream",
     "text": [
      "이디야 통계 (근처 스타벅스 매장이 없는 경우)\n",
      "100m\t 안에 스타벅스 매장이 없는 비율 : \t596개, \t83.01%\n",
      "200m\t 안에 스타벅스 매장이 없는 비율 : \t447개, \t62.26%\n",
      "500m\t 안에 스타벅스 매장이 없는 비율 : \t212개, \t29.53%\n",
      "1000m\t 안에 스타벅스 매장이 없는 비율 : \t45개, \t6.27%\n"
     ]
    }
   ],
   "source": [
    "print(\"이디야 통계 (근처 스타벅스 매장이 없는 경우)\")\n",
    "print(f\"100m\\t 안에 스타벅스 매장이 없는 비율 : \\t{sum(df_ediya_w_distance['count_100m']==0)}개, \\t{(sum(df_ediya_w_distance['count_100m']==0)/len(df_ediya_w_distance)*100):2.2f}%\") ## 100m 반경에 이디야 매장이 있는 스타벅스 매장의 수\n",
    "print(f\"200m\\t 안에 스타벅스 매장이 없는 비율 : \\t{sum(df_ediya_w_distance['count_200m']==0)}개, \\t{(sum(df_ediya_w_distance['count_200m']==0)/len(df_ediya_w_distance)*100):2.2f}%\") ## 100m 반경에 이디야 매장이 있는 스타벅스 매장의 수\n",
    "print(f\"500m\\t 안에 스타벅스 매장이 없는 비율 : \\t{sum(df_ediya_w_distance['count_500m']==0)}개, \\t{(sum(df_ediya_w_distance['count_500m']==0)/len(df_ediya_w_distance)*100):2.2f}%\") ## 100m 반경에 이디야 매장이 있는 스타벅스 매장의 수\n",
    "print(f\"1000m\\t 안에 스타벅스 매장이 없는 비율 : \\t{sum(df_ediya_w_distance['count_1000m']==0)}개, \\t{(sum(df_ediya_w_distance['count_1000m']==0)/len(df_ediya_w_distance)*100):2.2f}%\") ## 100m 반경에 이디야 매장이 있는 스타벅스 매장의 수"
   ]
  },
  {
   "cell_type": "markdown",
   "metadata": {},
   "source": [
    "# 결론\n",
    "---\n",
    "1. 스타벅스 매장의 500m 안에, 이디야가 있는 비율은 91.84% 이나, 이디야 매장의 500m 안에, 스타벅스 매장이 없는 비율은 29.53%로 상대적으로 낮지않다. 의도적으로 가까이 배치했을 수 있으나, 스타벅스가 없는 장소에도 충분히 이디야가 진출했다고 볼 수 있다. 따라서 이디야가 커버하는 커버리지가 더 넓어서 보이는 요소로 볼 수 있으므로, 항상 참이라고 보긴 어렵다.\n",
    "2. 그러면 스타벅스에 있는 장소에 우선적으로 이디야가 진출하고, 그 외의 장소에도 진출했을까?\n",
    "전체 스타벅스 주변에 있는 이디야 커피 매장이 서울 전체의 면적의 커버리지를 비교해보자\n"
   ]
  },
  {
   "cell_type": "markdown",
   "metadata": {},
   "source": []
  },
  {
   "cell_type": "markdown",
   "metadata": {},
   "source": []
  }
 ],
 "metadata": {
  "kernelspec": {
   "display_name": ".venv",
   "language": "python",
   "name": "python3"
  },
  "language_info": {
   "codemirror_mode": {
    "name": "ipython",
    "version": 3
   },
   "file_extension": ".py",
   "mimetype": "text/x-python",
   "name": "python",
   "nbconvert_exporter": "python",
   "pygments_lexer": "ipython3",
   "version": "3.11.0"
  }
 },
 "nbformat": 4,
 "nbformat_minor": 2
}
